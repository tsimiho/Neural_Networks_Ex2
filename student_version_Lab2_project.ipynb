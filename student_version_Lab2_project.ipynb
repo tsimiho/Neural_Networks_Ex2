{
  "cells": [
    {
      "cell_type": "markdown",
      "source": [
        "# Ομάδα 24:\n",
        "* Λίτσος Ιωάννης - 03119135\n",
        "* Τσιμιχόδημος Αχιλλέας - 03119140"
      ],
      "metadata": {
        "id": "bYztzNYgdzUs"
      }
    },
    {
      "cell_type": "code",
      "execution_count": null,
      "metadata": {
        "id": "Rdxpox811Zjx"
      },
      "outputs": [],
      "source": [
        "! pip install transformers datasets\n",
        "! pip install evaluate\n",
        "! pip install sentence-transformers\n",
        "! pip install git+https://github.com/huggingface/accelerate"
      ]
    },
    {
      "cell_type": "markdown",
      "metadata": {
        "id": "iJDLl00oIl-k"
      },
      "source": [
        "### Προσοχή\n",
        "\n",
        "Μη διαγράψετε τα # insert your code here σχόλια, καθώς βοηθούν στη διόρθωση. Συμπληρώστε τον κώδικά σας μετά από τα σχόλια αυτά."
      ]
    },
    {
      "cell_type": "markdown",
      "metadata": {
        "id": "Cc_H7oqS1Zjz"
      },
      "source": [
        "# Μέρος Α: Fine-tune a pretrained model\n",
        "\n",
        "Τα γλωσσικά μοντέλα αποτελούνται από δύο στάδια εκπαίδευσης:\n",
        "1. Pre-training σε μεγάλα unlabelled datasets. Το pre-training είναι υπολογιστικά πολύ ακριβό και γι αυτό στην πράξη δε το χρησιμοποιούμε όταν θέλουμε να τρέξουμε ένα μοντέλο σε ένα καινούργιο dataset. Μπορούμε να σκεφτούμε το pre-training ως τη διαδικασία εκμάθησης γλωσσικών κανόνων κι εννοιών, οι οποίες στη συνέχεια μπορούν να χρησιμοποιηθούν για διάφορους σκοπούς.\n",
        "\n",
        "2. Fine-tuning σε μικρότερα labelled datasets. Το fine-tuning πρακτικά εκμεταλλεύεται τις ιδιότητες του transfer learning προκειμένου να μεταφέρουμε τη 'γνώση' που έχει αποθηκευθεί στο γλωσσικό μοντέλο κατά τη διάρκεια του pre-training σε συγκεκριμένα task. Κάθε task εξυπηρετείται μέσω στοχευμένων datasets. Για παράδειγμα, κάποια datasets αναφέρονται στην ταξινόμηση κειμένων σε κατηγιορίες (text classification), άλλα datasets περιέχουν ερωτήσεις οι οποίες πρέπει να απαντηθούν (question answering) κι άλλα πολλά.\n",
        "\n",
        "Κάποια κλασικά tasks της επεξεργασίας φυσικής γλώσσας είναι τα ακόλουθα:\n",
        "- Text classification\n",
        "- Question answering\n",
        "- Natural language inference \n",
        "- Fill mask\n",
        "- Semantic similarity\n",
        "\n",
        "Περισσότερες πληροφορίες μπορείτε να βρείτε στον ακόλουθο σύνδεσμο στο domain Natural Language Processing: https://huggingface.co/models\n",
        "\n",
        "Στο πρώτο κομμάτι της παρούσας εργαστηριακής άσκησης, θα χρησιμοποιήσουμε το pre-training fine-tuning σενάριο για να ταξινομήσουμε reviews."
      ]
    },
    {
      "cell_type": "markdown",
      "metadata": {
        "id": "4-KvTKunnp0v"
      },
      "source": [
        "## Pipelines\n",
        "\n",
        "Με τη χρήση του text-classification pipeline μπορούμε να τρέξουμε γλωσσικά μοντέλα που αφορούν tasks ταξινόμησης. Το natural language inference (NLI) task αποτελεί ένα task ταξινόμησης, αφού το σχετικό μοντέλο (εν προκειμένω το roberta-large-mnli) καλείται να ταξινομήσει ένα κείμενο σε μία από τις 3 κατηγορίες [entailment/neutral/contradiction].\n",
        "\n",
        "```\n",
        "from transformers import pipeline\n",
        "\n",
        "classifier = pipeline(\"text-classification\", model = \"roberta-large-mnli\")\n",
        "classifier(\"A soccer game with multiple males playing. Some men are playing a sport.\")\n",
        "## [{'label': 'ENTAILMENT', 'score': 0.98}]\n",
        "```\n",
        "\n",
        "Ένα άλλο task ταξινόμησης αφορά την αξιολόγηση του κατά πόσο ένα κείμενο είναι γραμματικά ορθό (acceptable) ή όχι (unacceptable):\n",
        "\n",
        "```\n",
        "from transformers import pipeline\n",
        "\n",
        "classifier = pipeline(\"text-classification\", model = \"textattack/distilbert-base-uncased-CoLA\")\n",
        "classifier(\"I will walk to home when I went through the bus.\")\n",
        "##  [{'label': 'unacceptable', 'score': 0.95}]\n",
        "```"
      ]
    },
    {
      "cell_type": "markdown",
      "metadata": {
        "id": "y2UxEv7x1Zj1"
      },
      "source": [
        "## Σύνολο δεδομένων Yelp polarity"
      ]
    },
    {
      "cell_type": "markdown",
      "metadata": {
        "id": "nTNsahTl1Zj2"
      },
      "source": [
        "Κατεβάζουμε το [Yelp Polarity](https://huggingface.co/datasets/yelp_polarity) dataset το οποίο περιέχει reviews που εκφράζουν συναισθήματα πελατών για εστιατόρια. Τα reviews αυτά χωρίζονται σε κατηγορίες, και ο σκοπός μας είναι να κατηγοριοποιήσουμε νέα reviews στις σωστές κατηγορίες."
      ]
    },
    {
      "cell_type": "code",
      "execution_count": null,
      "metadata": {
        "id": "uS3fgJzzNBQL"
      },
      "outputs": [],
      "source": [
        "from datasets import load_dataset\n",
        "\n",
        "# insert your code here\n",
        "dataset = load_dataset(\"yelp_polarity\")"
      ]
    },
    {
      "cell_type": "code",
      "source": [
        "print(dataset)"
      ],
      "metadata": {
        "id": "BEavB0WKOiAI",
        "outputId": "8d8c70fc-23cb-4247-c872-34c47e255dec",
        "colab": {
          "base_uri": "https://localhost:8080/"
        }
      },
      "execution_count": 3,
      "outputs": [
        {
          "output_type": "stream",
          "name": "stdout",
          "text": [
            "DatasetDict({\n",
            "    train: Dataset({\n",
            "        features: ['text', 'label'],\n",
            "        num_rows: 560000\n",
            "    })\n",
            "    test: Dataset({\n",
            "        features: ['text', 'label'],\n",
            "        num_rows: 38000\n",
            "    })\n",
            "})\n"
          ]
        }
      ]
    },
    {
      "cell_type": "markdown",
      "metadata": {
        "id": "0hEzVNuLWzm4"
      },
      "source": [
        "Επειδή το σύνολο δεδομένων του Yelp Polarity περιέχει πολλά δείγματα, προκειμένου να επιταχύνουμε τη διαδικασία του fine-tuning συστήνουμε να διατηρήσετε 300 δείγματα από το train set και 300 δείγματα από το test set.\n",
        "\n",
        "Ελέγξτε τον αριθμό κατηγοριών που υπάρχουν συνολικά στο train και το test set και διατηρήστε ισορροπημένο αριθμό δειγμάτων ανά κατηγορία για τα σύνολα αυτά κατά την επιλογή των 300 δειγμάτων."
      ]
    },
    {
      "cell_type": "code",
      "execution_count": 16,
      "metadata": {
        "id": "pcLF72ZOxWbJ",
        "outputId": "82043bce-1f8f-45b1-97dc-9568540c49a4",
        "colab": {
          "base_uri": "https://localhost:8080/"
        }
      },
      "outputs": [
        {
          "output_type": "stream",
          "name": "stdout",
          "text": [
            "Train dataset has 153 0s and 147 1s\n",
            "Train dataset has 151 0s and 149 1s\n"
          ]
        }
      ],
      "source": [
        "# insert your code here\n",
        "from datasets import Dataset\n",
        "\n",
        "\n",
        "train_dataset = Dataset.from_dict(dataset['train'].shuffle()[:300])\n",
        "test_dataset = Dataset.from_dict(dataset['test'].shuffle()[:300])\n",
        "\n",
        "print(f\"Train dataset has {sum(sample['label'] == 0 for sample in train_dataset)} 0s and {sum(sample['label'] == 1 for sample in train_dataset)} 1s\")\n",
        "print(f\"Train dataset has {sum(sample['label'] == 0 for sample in test_dataset)} 0s and {sum(sample['label'] == 1 for sample in test_dataset)} 1s\")"
      ]
    },
    {
      "cell_type": "markdown",
      "metadata": {
        "id": "3N0xadZjXiIF"
      },
      "source": [
        "# Language Models\n",
        "\n",
        "Η προεπεξεργασία των κειμένων προηγείται της εισόδου τους στα γλωσσικά μοντέλα. Η διαδικασία αυτή επιτελείται μέσω των Tokenizers, τα οποία μετατρέπουν τα tokens εισόδου σε κατάλληλα IDs του λεξιλογίου προεκπαίδευσης, κι έτσι μετατρέπουν το κείμενο σε μορφή που μπορεί να επεξεργαστεί κάποιο μοντέλο Transformer. Η βιβλιοθήκη Huggingface προσφέρει εύκολες και high-level υλοποιήσεις tokenization, τις οποίες συστήνουμε να ακολουθήσετε στη συνέχεια.\n",
        "\n",
        "Συγκεκριμένα, αρχικοποιούμε τη διαδικασία του tokenization με χρήση του AutoTokenizer. Επιλέγοντας τη μέθοδο from_pretrained λαμβάνουμε έναν tokenizer που αποκρίνεται στην αρχιτεκτονική του μοντέλου που επιθυμούμε να χρησιμοποιήσουμε, παρέχοντας συμβατό tokenization.\n",
        "\n",
        "Περισσότερες πληροφορίες για το AutoTokenization μπορείτε να βρείτε εδώ:\n",
        "https://huggingface.co/docs/transformers/model_doc/auto\n",
        "\n",
        "Αναφορικά με το μοντέλο BERT το οποίο διδαχθήκατε στο εργαστήριο, μπορείτε να δείτε τη διαδικασία [του tokenization και της αρχικοποίησης του μοντέλου](https://huggingface.co/docs/transformers/model_doc/bert#transformers.BertTokenizer):\n",
        "\n",
        "```\n",
        "from transformers import AutoTokenizer, BertModel\n",
        "\n",
        "tokenizer = AutoTokenizer.from_pretrained(\"bert-base-uncased\")\n",
        "model = BertModel.from_pretrained(\"bert-base-uncased\")\n",
        "```\n",
        "\n",
        "Στα πλαίσια της άσκησης καλείστε να επιτελέσετε την παραπάνω διαδικασία με *κάποιο άλλο μοντέλο της επιλογής σας από το Huggingface* που να υποστηρίζει τον AutoTokenizer. Το pre-trained μοντέλο που θα επιλέξετε θα πρέπει να διαθέτει υλοποίηση με sequence classification head (κατ αναλογία της μεθόδου BertForSequenceClassification).\n",
        "\n",
        "Στο επόμενο κελί, φορτώστε το επιλεχθέν μοντέλο με τον αντίστοιχο tokenizer.\n",
        "\n",
        "(Αγνοήστε πιθανά warnings της μορφής Some weights of the model checkpoint at xxx were not used when initializing...)"
      ]
    },
    {
      "cell_type": "code",
      "execution_count": null,
      "metadata": {
        "id": "_lnywJkqyL64"
      },
      "outputs": [],
      "source": [
        "# insert your code here\n",
        "\n",
        "from transformers import AutoTokenizer, AlbertForSequenceClassification , RobertaForSequenceClassification\n",
        "\n",
        "tokenizer = AutoTokenizer.from_pretrained(\"roberta-base\")\n",
        "model = RobertaForSequenceClassification.from_pretrained(\"roberta-base\")"
      ]
    },
    {
      "cell_type": "markdown",
      "metadata": {
        "id": "amArSfaYdTQ4"
      },
      "source": [
        "Σας παρέχουμε τη συνάρτηση που πραγματοποιεί το tokenization καλώντας τον tokenizer που επιλέξατε. Εφαρμόστε το τόσο στο train, όσο και στο test set."
      ]
    },
    {
      "cell_type": "code",
      "execution_count": 18,
      "metadata": {
        "id": "wfyShwJ8FRkf",
        "outputId": "09fbc9bc-b978-43d0-8b64-c88fb234f111",
        "colab": {
          "base_uri": "https://localhost:8080/"
        }
      },
      "outputs": [
        {
          "output_type": "execute_result",
          "data": {
            "text/plain": [
              "Dataset({\n",
              "    features: ['text', 'label'],\n",
              "    num_rows: 300\n",
              "})"
            ]
          },
          "metadata": {},
          "execution_count": 18
        }
      ],
      "source": [
        "train_dataset"
      ]
    },
    {
      "cell_type": "code",
      "execution_count": 19,
      "metadata": {
        "id": "-1AkZ0rLPq2d",
        "outputId": "ee3132e7-792a-4b7b-9c8a-8cea7b073f01",
        "colab": {
          "base_uri": "https://localhost:8080/"
        }
      },
      "outputs": [
        {
          "output_type": "execute_result",
          "data": {
            "text/plain": [
              "Dataset({\n",
              "    features: ['text', 'label', 'input_ids', 'attention_mask'],\n",
              "    num_rows: 300\n",
              "})"
            ]
          },
          "metadata": {},
          "execution_count": 19
        }
      ],
      "source": [
        "def tokenize_function(examples):\n",
        "    return tokenizer(examples[\"text\"],padding=\"max_length\", truncation=True)\n",
        "\n",
        "# insert your code here\n",
        "tokenized_train_dataset = Dataset.from_dict(tokenize_function(train_dataset))\n",
        "tokenized_test_dataset = Dataset.from_dict(tokenize_function(test_dataset))\n",
        "import pandas as pd\n",
        "merged_train_dataset = Dataset.from_pandas(pd.concat([pd.DataFrame(train_dataset), pd.DataFrame(tokenized_train_dataset)],axis = 1))\n",
        "merged_test_dataset = Dataset.from_pandas(pd.concat([pd.DataFrame(test_dataset), pd.DataFrame(tokenized_test_dataset)],axis = 1))\n",
        "merged_test_dataset"
      ]
    },
    {
      "cell_type": "markdown",
      "metadata": {
        "id": "9G6xI_ycdkGs"
      },
      "source": [
        "Τυπώνοντας το train ή το test set, θα δείτε δύο επιπλέον πεδία 'input_ids' και 'attention_mask'. Βεβαιωθείτε ότι υπάρχουν, άρα και το tokenization έχει επιτευχθεί."
      ]
    },
    {
      "cell_type": "markdown",
      "metadata": {
        "id": "GIFmCKWS1Zj6"
      },
      "source": [
        "## Χρήση του PyTorch Trainer για fine-tuning\n",
        "\n",
        "Η κλάση [Trainer](https://huggingface.co/docs/transformers/main/en/main_classes/trainer#transformers.Trainer) έχει βελτιστοποιηθεί από τους δημιουργούς του Huggingface παρέχοντας πολλές διευκολύνσεις και λιγότερη 'χεράτη' δουλειά. Προτείνουμε να τη χρησιμοποιήσετε ως εναλλακτική του να γράψετε το δικό σας training loop.\n",
        "Καθώς η Trainer δεν τεστάρει αυτόματα την επίδοση του εκάστοτε μοντέλου κατά την εκπαίδευση, παρέχουμε κατάλληλη συνάρτηση προκειμένου να αποτιμάται το accuracy του μοντέλου σε κάθε εποχή."
      ]
    },
    {
      "cell_type": "code",
      "execution_count": null,
      "metadata": {
        "id": "0MPHrmRL1Zj7"
      },
      "outputs": [],
      "source": [
        "import numpy as np\n",
        "import evaluate\n",
        "import torch\n",
        "from tqdm import tqdm\n",
        "from transformers import pipeline\n",
        "\n",
        "metric = evaluate.load(\"accuracy\")\n",
        "\n",
        "def compute_metrics(eval_pred):\n",
        "    logits, labels = eval_pred\n",
        "    predictions = np.argmax(logits, axis=-1)\n",
        "    return metric.compute(predictions=predictions, references=labels)"
      ]
    },
    {
      "cell_type": "markdown",
      "metadata": {
        "id": "31RdBzz01Zj7"
      },
      "source": [
        "Η κλάση [TrainingArguments](https://huggingface.co/docs/transformers/main/en/main_classes/trainer#transformers.TrainingArguments) περιέχει όλες τις υπερπαραμέτρους με τις οποίες μπορείτε να πειραματιστείτε κατά τη διαδικασία fine-tuning.\n",
        "\n",
        "\n",
        "Καλείστε να πειραματιστείτε με διαφορετικές υπερπαραμέτρους όπως το learning rate, batch size κλπ, καθώς επίσης και να ορίσετε optimizer και scheduler για το fine-tuning. Προτείνουμε να εκτελέσετε fine-tuning για μικρό αριθμό εποχών (άλλωστε το μοντέλο είναι ήδη προεκπαιδευμένο).\n",
        "\n",
        "1. Θα μας δώσετε σε markdown ένα πινακάκι με διαφορετικές υπερπαραμέτρους που δοκιμάσατε και το accuracy που πετύχατε στην τελευταία εποχή. \n",
        "\n",
        "2. Βάσει των πειραματισμών, πώς επηρεάζουν διαφορετικές υπερπαράμετροι όπως το learning rate και το batch size το fine-tuning του μοντέλου που επιλέξατε? Σχολιάστε και αναλύστε."
      ]
    },
    {
      "cell_type": "code",
      "execution_count": 21,
      "metadata": {
        "id": "Ga0fADv91Zj7"
      },
      "outputs": [],
      "source": [
        "from transformers.optimization import AdafactorSchedule, Adafactor, AdamW, get_linear_schedule_with_warmup\n",
        "from transformers import TrainingArguments, Trainer\n",
        "from torch.optim.lr_scheduler import ReduceLROnPlateau\n",
        "from torch import nn\n",
        "\n",
        "args = TrainingArguments(output_dir=\"test_trainer\",evaluation_strategy=\"epoch\",per_device_train_batch_size=8, per_device_eval_batch_size=16 ,warmup_steps=500, learning_rate=0.0000001 ,num_train_epochs = 7.0, weight_decay=0.0005)\n",
        "\n",
        "# insert your code here\n",
        "# optimizer\n",
        "optimizer = AdamW(model.parameters(), betas = (0.9, 0.999), correct_bias= True,eps= 1e-08 ,lr= 5.320000000000001e-06,weight_decay= 0.0005, no_deprecation_warning=True)\n",
        "# scheduler\n",
        "scheduler = get_linear_schedule_with_warmup(optimizer, num_warmup_steps=100, num_training_steps= 200)\n",
        "\n",
        "# etc"
      ]
    },
    {
      "cell_type": "code",
      "execution_count": 22,
      "metadata": {
        "id": "nHWYlDW21Zj8"
      },
      "outputs": [],
      "source": [
        "trainer = Trainer(\n",
        "    model=model,\n",
        "    args=args,\n",
        "    train_dataset=merged_train_dataset,\n",
        "    eval_dataset=merged_test_dataset,\n",
        "    compute_metrics=compute_metrics,\n",
        "    optimizers = (optimizer, scheduler)\n",
        ")"
      ]
    },
    {
      "cell_type": "markdown",
      "metadata": {
        "id": "u1I4coXA1Zj8"
      },
      "source": [
        "Then fine-tune your model by calling [train()](https://huggingface.co/docs/transformers/main/en/main_classes/trainer#transformers.Trainer.train):"
      ]
    },
    {
      "cell_type": "code",
      "execution_count": null,
      "metadata": {
        "id": "PvY7bzp01Zj8",
        "outputId": "0da937d9-6adf-4d10-d05a-c5a6c88c167f",
        "colab": {
          "base_uri": "https://localhost:8080/",
          "height": 295
        }
      },
      "outputs": [
        {
          "output_type": "display_data",
          "data": {
            "text/plain": [
              "<IPython.core.display.HTML object>"
            ],
            "text/html": [
              "\n",
              "    <div>\n",
              "      \n",
              "      <progress value='266' max='266' style='width:300px; height:20px; vertical-align: middle;'></progress>\n",
              "      [266/266 04:25, Epoch 7/7]\n",
              "    </div>\n",
              "    <table border=\"1\" class=\"dataframe\">\n",
              "  <thead>\n",
              " <tr style=\"text-align: left;\">\n",
              "      <th>Epoch</th>\n",
              "      <th>Training Loss</th>\n",
              "      <th>Validation Loss</th>\n",
              "      <th>Accuracy</th>\n",
              "    </tr>\n",
              "  </thead>\n",
              "  <tbody>\n",
              "    <tr>\n",
              "      <td>1</td>\n",
              "      <td>No log</td>\n",
              "      <td>0.693213</td>\n",
              "      <td>0.513333</td>\n",
              "    </tr>\n",
              "    <tr>\n",
              "      <td>2</td>\n",
              "      <td>No log</td>\n",
              "      <td>0.688675</td>\n",
              "      <td>0.523333</td>\n",
              "    </tr>\n",
              "    <tr>\n",
              "      <td>3</td>\n",
              "      <td>No log</td>\n",
              "      <td>0.674490</td>\n",
              "      <td>0.523333</td>\n",
              "    </tr>\n",
              "    <tr>\n",
              "      <td>4</td>\n",
              "      <td>No log</td>\n",
              "      <td>0.445235</td>\n",
              "      <td>0.896667</td>\n",
              "    </tr>\n",
              "    <tr>\n",
              "      <td>5</td>\n",
              "      <td>No log</td>\n",
              "      <td>0.169947</td>\n",
              "      <td>0.956667</td>\n",
              "    </tr>\n",
              "    <tr>\n",
              "      <td>6</td>\n",
              "      <td>No log</td>\n",
              "      <td>0.164117</td>\n",
              "      <td>0.956667</td>\n",
              "    </tr>\n",
              "    <tr>\n",
              "      <td>7</td>\n",
              "      <td>No log</td>\n",
              "      <td>0.164117</td>\n",
              "      <td>0.956667</td>\n",
              "    </tr>\n",
              "  </tbody>\n",
              "</table><p>"
            ]
          },
          "metadata": {}
        }
      ],
      "source": [
        "trained_model=trainer.train()"
      ]
    },
    {
      "cell_type": "markdown",
      "source": [
        "#Αποτελέσματα\n",
        "per_device_train_batch_size  | per_device_eval_batch_size | learning_rate | weight_decay| Accuracy (after 7 epochs)\n",
        "-----------------------------|----------------------------|---------------|-----------|-----------\n",
        "8       | 16     | 1e-7   | 5e-4 | 0.9567\n",
        "16      | 16     | 1e-5   | 5e-4 | 0.9533\n",
        "8       | 16     | 1e-5   | 5e-4 | 0.9467\n",
        "8       | 8      | 1e-6   | 5e-4 | 0.9467\n",
        "8       | 8      | 1e-5   | 5e-4 | 0.94\n",
        "8       | 8      | 1e-5   | 5e-3 | 0.9367\n",
        "8       | 8      | 1e-5   | 5e-5 | 0.9367\n",
        "8       | 8      | 1e-5   | 5e-2 | 0.9367\n",
        "\n",
        "\n",
        "Από το παραπάνω πινακάκι προκύπτουν τα εξής συμπεράσματα:\n",
        "* Η αύξηση του batch size οδηγεί σε βελτίωση του accuracy\n",
        "* Οι μεταβολές στο weight decay δεν επηρεάζουν το accuracy\n",
        "* Η αύξηση του learning rate οδηγεί σε βελτίωση του accuracy"
      ],
      "metadata": {
        "id": "maBbCuUlWI6z"
      }
    },
    {
      "cell_type": "markdown",
      "metadata": {
        "id": "0eR7gCPovmFN"
      },
      "source": [
        "# Μέρος Β: Χρήση fine-tuned μοντέλων σε νέα tasks\n",
        "\n",
        "Στο κομμάτι αυτό της εργασίας δε χρειάζεται να πραγματοποιήσετε εκπαίδευση σε γλωσσικά μοντέλα. Αντιθέτως, θα εκμεταλλευτούμε τις δυνατότητες του transfer learning για να αντιμετωπίσουμε πιο πολύπλοκα γλωσσικά task, ανάγοντάς τα σε κλασικά task όπως είναι το text classification, natural language inference, question answering και άλλα.\n",
        "\n",
        "Για παράδειγμα, fine-tuned μοντέλα για [text classification](https://huggingface.co/tasks/text-classification) εξυπηρετούν tasks όπως:\n",
        "\n",
        "- Είναι δύο προτάσεις η μία παράφραση της άλλης? [Paraphrase/No Paraphrase]\n",
        "- Συνεπάγεται η πρόταση Χ την πρόταση Υ? [Entail/Neutral/Contradict]\n",
        "- Είναι η δοθείσα πρόταση γραμματικά ορθή? [Acceptable/Unacceptable]"
      ]
    },
    {
      "cell_type": "markdown",
      "metadata": {
        "id": "vy3VluE4i3e6"
      },
      "source": [
        "## B1. Piqa dataset\n",
        "\n",
        "Το [Piqa dataset](https://huggingface.co/datasets/piqa) περιλαμβάνει προτάσεις οι οποίες ελέγχουν το βαθμό στον οποίο τα language models έχουν κοινή γνώση (commonsense). Συγκεκριμένα, αποτελείται από προτάσεις και πιθανά endings, τα οποία απαιτούν commonsense γνώση για να συμπληρωθούν.\n",
        "\n",
        "Για παράδειγμα, έχοντας την πρόταση \"When boiling butter, when it's ready, you can\" υπάρχουν δύο υποψήφια endings:\n",
        "- \"Pour it onto a plate\"\n",
        "- \"Pour it into a jar\"\n",
        "\n",
        "Ένας άνθρωπος μπορεί να συμπεράνει ότι η δεύτερη πρόταση αποτελεί ένα πιο κατάλληλο ending, αφού το λιωμένο βούτυρο είναι υγρό, άρα το βάζο είναι ένα καταλληλότερο δοχείο σε σχέση με το πιάτο.\n",
        "\n",
        "Για λόγους επιτάχυνσης επιλέξτε ένα τυχαίο υποσύνολο 100 δειγμάτων από το Piqa."
      ]
    },
    {
      "cell_type": "code",
      "execution_count": null,
      "metadata": {
        "id": "v4eyhC27i8bH"
      },
      "outputs": [],
      "source": [
        "# # insert your code here (load dataset)\n",
        "dataset = load_dataset('piqa')\n",
        "piqa_dataset = Dataset.from_dict(dataset['validation'].shuffle()[:100])"
      ]
    },
    {
      "cell_type": "markdown",
      "metadata": {
        "id": "X_r6bijyOY_8"
      },
      "source": [
        "Μπορούμε να θεωρήσουμε το παραπάνω σενάριο σαν ένα πρόβλημα πολλαπλής επιλογής, όπου υπάρχουν δύο πιθανές εναλλακτικές για το ending της πρότασης. Συνεπώς, αξιοποιώντας σχετικά μοντέλα μπορούμε να επιλύσουμε την επιλογή του ending δοθείσας της πρότασης.\n",
        "\n",
        "Καλείστε λοιπόν να καταγράψετε το accuracy πρόβλεψης endings για κάθε πρόταση με χρήση γλωσσικών μοντέλων. Για λόγους σύγκρισης χρησιμοποιήστε τουλάχιστον 5 κατάλληλα μοντέλα."
      ]
    },
    {
      "cell_type": "code",
      "execution_count": null,
      "metadata": {
        "id": "a6lSPO6NMekO"
      },
      "outputs": [],
      "source": [
        "# insert your code here (models)\n",
        "from transformers import AutoTokenizer, BertForMultipleChoice, ElectraForMultipleChoice, AlbertForMultipleChoice, LukeForMultipleChoice, DebertaV2ForMultipleChoice, BigBirdForMultipleChoice\n",
        "\n",
        "Bert_tokenizer = AutoTokenizer.from_pretrained(\"bert-base-uncased\")\n",
        "Bert_model = BertForMultipleChoice.from_pretrained(\"bert-base-uncased\")\n",
        "\n",
        "Electra_tokenizer = AutoTokenizer.from_pretrained(\"google/electra-small-discriminator\")\n",
        "Electra_model = ElectraForMultipleChoice.from_pretrained(\"google/electra-small-discriminator\")\n",
        "\n",
        "Albert_tokenizer = AutoTokenizer.from_pretrained(\"albert-base-v2\")\n",
        "Albert_model = AlbertForMultipleChoice.from_pretrained(\"albert-base-v2\")\n",
        "\n",
        "Luke_tokenizer = AutoTokenizer.from_pretrained(\"studio-ousia/luke-base\")\n",
        "Luke_model = LukeForMultipleChoice.from_pretrained(\"studio-ousia/luke-base\")\n",
        "\n",
        "DebertaV2_tokenizer = AutoTokenizer.from_pretrained(\"microsoft/deberta-v2-xlarge\")\n",
        "DebertaV2_model = DebertaV2ForMultipleChoice.from_pretrained(\"microsoft/deberta-v2-xlarge\")\n",
        "\n",
        "BigBird_tokenizer = AutoTokenizer.from_pretrained(\"google/bigbird-roberta-base\")\n",
        "BigBird_model = BigBirdForMultipleChoice.from_pretrained(\"google/bigbird-roberta-base\")"
      ]
    },
    {
      "cell_type": "code",
      "execution_count": null,
      "metadata": {
        "id": "OG2CkRVCOHtE"
      },
      "outputs": [],
      "source": [
        "# insert your code here (function for ending prediction)\n",
        "\n",
        "def prediction(model, tokenizer):\n",
        "  correct = 0\n",
        "  for data in piqa_dataset:\n",
        "    prompt = data['goal']\n",
        "    choice0 = data['sol1']\n",
        "    choice1 = data['sol2']\n",
        "    label = torch.tensor(data['label']).unsqueeze(0)\n",
        "\n",
        "    encoding = tokenizer([prompt, prompt], [choice0, choice1], return_tensors=\"pt\", padding=True)\n",
        "    outputs = model(**{k: v.unsqueeze(0) for k, v in encoding.items()}, labels=label)  \n",
        "\n",
        "    loss = outputs.loss\n",
        "    logits = outputs.logits\n",
        "    if (torch.argmax(logits, dim=1)[0] == label):\n",
        "      correct = correct + 1\n",
        "\n",
        "  print(f\"Accuracy for {str(model).split('(')[0]}: {correct/100.0}\")"
      ]
    },
    {
      "cell_type": "code",
      "source": [
        "prediction(Bert_model, Bert_tokenizer)\n",
        "prediction(Electra_model, Electra_tokenizer)\n",
        "prediction(Albert_model, Albert_tokenizer)\n",
        "prediction(Luke_model, Luke_tokenizer)\n",
        "prediction(BigBird_model, BigBird_tokenizer)"
      ],
      "metadata": {
        "id": "f-WFpyVsOTEH",
        "outputId": "057f9151-a676-443a-816c-fa60c7720b91",
        "colab": {
          "base_uri": "https://localhost:8080/"
        }
      },
      "execution_count": null,
      "outputs": [
        {
          "output_type": "stream",
          "name": "stdout",
          "text": [
            "Accuracy for BertForMultipleChoice: 0.5\n",
            "Accuracy for ElectraForMultipleChoice: 0.47\n",
            "Accuracy for AlbertForMultipleChoice: 0.56\n",
            "Accuracy for LukeForMultipleChoice: 0.43\n",
            "Accuracy for BigBirdForMultipleChoice: 0.51\n"
          ]
        }
      ]
    },
    {
      "cell_type": "markdown",
      "source": [
        "Το μοντέλο που έχει τα καλύτερα αποτελέσματα είναι το AlbertForMultipleChoice."
      ],
      "metadata": {
        "id": "JWmTegcoNR5L"
      }
    },
    {
      "cell_type": "markdown",
      "metadata": {
        "id": "Tz8-kVRS1w2q"
      },
      "source": [
        "## B2. Truthful QA"
      ]
    },
    {
      "cell_type": "markdown",
      "metadata": {
        "id": "d59haHDaA3X0"
      },
      "source": [
        "### Sentence Transformers\n",
        "\n",
        "Οι sentence transformers χρησιμοποιούνται για να δημιουργήσουν embeddings προτάσεων, δηλαδή διανυσματικές αναπαραστάσεις των προτάσεων αυτών σε ένα διανυσματικό χώρο. Χάρη στον τρόπο που έχουν προεκπαιδευτεί, έχουν την ικανότητα να τοποθετούν νοηματικά όμοιες προτάσεις κοντά τη μία στην άλλη, ενώ απομακρύνουν νοηματικά μακρινές προτάσεις. Έτσι, χάρη στις αναπαραστάσεις που λαμβάνουμε από τα sentence embeddings μπορούμε να αξιολογήσουμε σε τι βαθμό δύο προτάσεις είναι κοντά ή μακριά νοηματικά.\n",
        "\n",
        "Η σύγκριση των διανυσματικών αναπαραστάσεων μπορεί να γίνει κλασικά μέσω μεθόδων όπως το consine similarity, με μεγαλύτερες τιμές μεταξύ διανυσμάτων να σηματοδοτούν πιο όμοια διανύσματα, άρα και πιο όμοιες προτάσεις. Δίνουμε για το λόγο αυτό μια συνάρτηση υπολογισμού του cosine similarity."
      ]
    },
    {
      "cell_type": "code",
      "execution_count": null,
      "metadata": {
        "id": "rdaiwnFx_ipu"
      },
      "outputs": [],
      "source": [
        "from sklearn.metrics.pairwise import cosine_similarity\n",
        "def get_cosine_similarity(feature_vec_1, feature_vec_2):    \n",
        "    return cosine_similarity(feature_vec_1.reshape(1, -1), feature_vec_2.reshape(1, -1))[0][0]"
      ]
    },
    {
      "cell_type": "markdown",
      "metadata": {
        "id": "kKMb7XFcB0Hr"
      },
      "source": [
        "Για παράδειγμα, εκτελέστε το ακόλουθο κελί, το οποίο δίνει μια τιμή ομοιότητας στο διάστημα [0, 1] για δύο προτάσεις (\"This is an example sentence\", \"Each sentence is converted\"). Μπορείτε ακόμα να δοκιμάσετε να εκτελέσετε το ακόλουθο κελί για διαφορετικές προτάσεις της επιλογής σας, που μπορεί να είναι όμοιες ή πολύ διαφορετικές μεταξύ τους, και να παρατηρήσετε τις αλλαγές τιμών του cosine similarity."
      ]
    },
    {
      "cell_type": "code",
      "execution_count": null,
      "metadata": {
        "id": "UGhq0UGF-bW0"
      },
      "outputs": [],
      "source": [
        "from sentence_transformers import SentenceTransformer\n",
        "sentences = [\"This is an example sentence\", \"Each sentence is converted\"]\n",
        "\n",
        "model = SentenceTransformer('sentence-transformers/all-mpnet-base-v2')\n",
        "embeddings = model.encode(sentences)\n",
        "\n",
        "get_cosine_similarity(embeddings[0], embeddings[1])"
      ]
    },
    {
      "cell_type": "markdown",
      "metadata": {
        "id": "Rzaa750mCZp5"
      },
      "source": [
        "Για τη συνέχεια της άσκησης, καλείστε να επιλέξετε τουλάχιστον 6 διαφορετικά [μοντέλα για semantic similarity](https://huggingface.co/models?pipeline_tag=sentence-similarity&sort=downloads) από τους sentence transformers"
      ]
    },
    {
      "cell_type": "markdown",
      "metadata": {
        "id": "8iGiDmwBCuKR"
      },
      "source": [
        "### Μπορούν τα question answering μοντέλα να διαχωρίσουν αληθείς και ψευδείς προτάσεις?\n",
        "\n",
        "Αυτό το ερώτημα θα το απαντήσουμε στο παρόν κομμάτι της άσκησης. Για το λόγο αυτό, φορτώνουμε το dataset [Truthful QA generation](https://huggingface.co/datasets/truthful_qa/viewer/generation/validation), το οποίο περιέχει τις εξής επιλογές:\n",
        "\n",
        "- best answer\n",
        "- correct answer\n",
        "- incorrect answer\n",
        "\n",
        "Πολλές φορές το best answer και το correct answer είναι ίδια ή έστω πολύ κοντινά νοηματικά. Σε αυτό το σημείο είναι που θα αξιοποιήσουμε το semantic similarity για να αξιολογήσουμε την ομοιότητα αυτή. \n",
        "\n",
        "Φιλτράρουμε το dataset ώστε να περιέχονται 100 δείγματα συνολικά για λόγους επιτάχυνσης, εκ των οποίων καθένα θα πρέπει να περιέχει τουλάχιστον 2 correct answer. Θεωρούμε έτσι 4 υποψήφιες επιλογές:\n",
        "\n",
        "1η επιλογή: best answer  \n",
        "2η επιλογή: 1ο correct answer  \n",
        "3η επιλογή: 2ο correct answer  \n",
        "4η επιλογή: incorrect answer  \n",
        "\n",
        "Οι επιλογές αυτές μαζί με την ερώτηση δίνονται σε ένα μοντέλο πολλαπλής επιλογής σαν αυτά που χρησιμοποιήθηκαν στο ερώτημα Β1. Μπορείτε να θεωρήσετε τα ίδια μοντέλα και να τα επεκτείνετε σε 4 υποψήφιες απαντήσεις.  \n",
        "\n",
        "Το semantic similarity θα επηρεάσει το τι θεωρούμε βέλτιστα σωστή απάντηση, άρα και το accuracy. Συγκεκριμένα, θα λάβουμε διανυσματικές αναπαραστάσεις για το best answer και τα 2 correct answer που έχουν δοθεί ως υποψήφιες επιλογές μέσω κάποιου semantic similarity μοντέλου. Σε περίπτωση λοιπόν που το μοντέλο πολλαπλής επιλογής προβλέψει ένα εκ των correct answer, και η ομοιότητά τους σε σχέση με το best model ξεπερνάει ένα προεπιλεγμένο κατώφλι ομοιότητας, η απάντηση θεωρείται βέλτιστα σωστή. Θέτουμε λοιπόν κατώφλι ομοιότητας το 0.95.\n",
        "\n",
        "Για παράδειγμα, έστω ότι το μοντέλο πολλαπλής επιλογής μεταξύ των υποψηφίων [best, 1st correct, 2nd correct, incorrect] επιλέγει το δεύτερο στοιχείο, δηλαδή το 1st correct, και δεδομένου ότι το cosine similarity μεταξύ των embeddings του best και του 1st correct είναι > 0.95, τότε θεωρούμε ότι η απάντηση είναι βέλτιστα σωστή, και συνυπολογίζεται θετικά στο accuracy.\n",
        "\n",
        "Καλείστε λοιπόν να γράψετε μια συνάρτηση που να υπολογίζει το accuracy εύρεσης βέλτιστα σωστών απαντήσεων ανάμεσα στις υποψήφιες απαντήσεις, εξετάζοντας τουλάχιστον 6 semantic similarity μοντέλα καθώς επίσης και τα μοντέλα που επιλέξατε στο ερώτημα Β1.\n"
      ]
    },
    {
      "cell_type": "code",
      "execution_count": null,
      "metadata": {
        "id": "B3aXIPmDIA7F"
      },
      "outputs": [],
      "source": [
        "# insert your code here (load dataset)\n",
        "dataset = load_dataset('truthful_qa','generation')['validation']\n",
        "truthful_qa_dataset = Dataset.from_dict(Dataset.from_list([dataset[i] for i in range(dataset.num_rows) if len(dataset[i][\"correct_answers\"]) >= 2]).shuffle()[:100])\n",
        "\n",
        "truthful_qa_dataset = truthful_qa_dataset.map(lambda dt: {**dt, 'correct_1': dt['correct_answers'][0], 'correct_2': dt['correct_answers'][1], 'incorrect': dt['incorrect_answers'][0]})\n",
        "truthful_qa_dataset = truthful_qa_dataset.remove_columns(['type', 'category','source', 'correct_answers', 'incorrect_answers'])"
      ]
    },
    {
      "cell_type": "code",
      "source": [
        "print(truthful_qa_dataset)"
      ],
      "metadata": {
        "colab": {
          "base_uri": "https://localhost:8080/"
        },
        "id": "76P2T2EWCnXQ",
        "outputId": "0c1205f2-6e05-4b4e-f87a-cc2963659911"
      },
      "execution_count": 24,
      "outputs": [
        {
          "output_type": "stream",
          "name": "stdout",
          "text": [
            "Dataset({\n",
            "    features: ['question', 'best_answer', 'correct_1', 'correct_2', 'incorrect'],\n",
            "    num_rows: 100\n",
            "})\n"
          ]
        }
      ]
    },
    {
      "cell_type": "code",
      "execution_count": null,
      "metadata": {
        "id": "IZSQmLMDIJ3A"
      },
      "outputs": [],
      "source": [
        "# insert your code here (load models for semantic similarity and QA)\n",
        "\n",
        "semantic_model_1 = SentenceTransformer('sentence-transformers/all-MiniLM-L6-v2')\n",
        "semantic_model_2 = SentenceTransformer('sentence-transformers/multi-qa-mpnet-base-dot-v1')\n",
        "semantic_model_3 = SentenceTransformer('sentence-transformers/all-MiniLM-L12-v2')\n",
        "semantic_model_4 = SentenceTransformer('sentence-transformers/paraphrase-MiniLM-L6-v2')\n",
        "semantic_model_5 = SentenceTransformer('sentence-transformers/bert-base-nli-mean-tokens')\n",
        "semantic_model_6 = SentenceTransformer('sentence-transformers/distiluse-base-multilingual-cased-v2')"
      ]
    },
    {
      "cell_type": "code",
      "execution_count": null,
      "metadata": {
        "id": "WCNrR5nV18_G"
      },
      "outputs": [],
      "source": [
        "# insert your code here (function for optimal correct answers & semantic similarity)\n",
        "\n",
        "def semantic_similarity(multiple_choice_model, multiple_choice_tokenizer, semantic_model, model_name):\n",
        "  correct = 0\n",
        "  for data in truthful_qa_dataset:\n",
        "    question = data['question']\n",
        "    best = data['best_answer']\n",
        "    correct_1 = data['correct_1']\n",
        "    correct_2 = data['correct_1']\n",
        "    incorrect = data['incorrect']\n",
        "    options = [best, correct_1, correct_2, incorrect]\n",
        "\n",
        "    encoding = multiple_choice_tokenizer(4*[question], options, return_tensors=\"pt\", padding=True)\n",
        "    output = multiple_choice_model(**{k: v.unsqueeze(0) for k, v in encoding.items()})  \n",
        "\n",
        "    embeddings = semantic_model.encode([best, options[torch.argmax(output.logits, dim=1)[0]]])\n",
        "\n",
        "    if (get_cosine_similarity(embeddings[0], embeddings[1]) >= 0.95):\n",
        "      correct = correct + 1\n",
        "\n",
        "  print(f\"Accuracy for {str(multiple_choice_model).split('(')[0]} with {model_name}: {correct/100.0}\")"
      ]
    },
    {
      "cell_type": "code",
      "source": [
        "semantic_models = [semantic_model_1, semantic_model_2, semantic_model_3, semantic_model_4, semantic_model_5, semantic_model_6]\n",
        "semantic_model_names = ['all-MiniLM-L6-v2', 'multi-qa-mpnet-base-dot-v1', 'all-MiniLM-L12-v2', 'paraphrase-MiniLM-L6-v2', 'bert-base-nli-mean-tokens', 'distiluse-base-multilingual-cased-v2']\n",
        "multiple_choice_models = [Bert_model, Electra_model, Albert_model, Luke_model, BigBird_model]\n",
        "tokenizers = [Bert_tokenizer, Electra_tokenizer, Albert_tokenizer, Luke_tokenizer, BigBird_tokenizer]\n",
        "\n",
        "for i in range(5):\n",
        "  for j in range(6):\n",
        "    semantic_similarity(multiple_choice_models[i], tokenizers[i], semantic_models[j], semantic_model_names[j])\n",
        "  print('----------------------------------------')"
      ],
      "metadata": {
        "id": "NorWC0d-qkCH",
        "outputId": "04b07d06-e7ab-42c0-b2ec-ef7530070cf7",
        "colab": {
          "base_uri": "https://localhost:8080/"
        }
      },
      "execution_count": null,
      "outputs": [
        {
          "output_type": "stream",
          "name": "stdout",
          "text": [
            "Accuracy for BertForMultipleChoice with all-MiniLM-L6-v2: 0.54\n",
            "Accuracy for BertForMultipleChoice with multi-qa-mpnet-base-dot-v1: 0.55\n",
            "Accuracy for BertForMultipleChoice with all-MiniLM-L12-v2: 0.54\n",
            "Accuracy for BertForMultipleChoice with paraphrase-MiniLM-L6-v2: 0.51\n",
            "Accuracy for BertForMultipleChoice with bert-base-nli-mean-tokens: 0.52\n",
            "Accuracy for BertForMultipleChoice with distiluse-base-multilingual-cased-v2: 0.52\n",
            "----------------------------------------\n",
            "Accuracy for ElectraForMultipleChoice with all-MiniLM-L6-v2: 0.55\n",
            "Accuracy for ElectraForMultipleChoice with multi-qa-mpnet-base-dot-v1: 0.55\n",
            "Accuracy for ElectraForMultipleChoice with all-MiniLM-L12-v2: 0.55\n",
            "Accuracy for ElectraForMultipleChoice with paraphrase-MiniLM-L6-v2: 0.54\n",
            "Accuracy for ElectraForMultipleChoice with bert-base-nli-mean-tokens: 0.53\n",
            "Accuracy for ElectraForMultipleChoice with distiluse-base-multilingual-cased-v2: 0.54\n",
            "----------------------------------------\n",
            "Accuracy for AlbertForMultipleChoice with all-MiniLM-L6-v2: 0.52\n",
            "Accuracy for AlbertForMultipleChoice with multi-qa-mpnet-base-dot-v1: 0.51\n",
            "Accuracy for AlbertForMultipleChoice with all-MiniLM-L12-v2: 0.51\n",
            "Accuracy for AlbertForMultipleChoice with paraphrase-MiniLM-L6-v2: 0.47\n",
            "Accuracy for AlbertForMultipleChoice with bert-base-nli-mean-tokens: 0.47\n",
            "Accuracy for AlbertForMultipleChoice with distiluse-base-multilingual-cased-v2: 0.47\n",
            "----------------------------------------\n",
            "Accuracy for LukeForMultipleChoice with all-MiniLM-L6-v2: 0.56\n",
            "Accuracy for LukeForMultipleChoice with multi-qa-mpnet-base-dot-v1: 0.55\n",
            "Accuracy for LukeForMultipleChoice with all-MiniLM-L12-v2: 0.55\n",
            "Accuracy for LukeForMultipleChoice with paraphrase-MiniLM-L6-v2: 0.51\n",
            "Accuracy for LukeForMultipleChoice with bert-base-nli-mean-tokens: 0.51\n"
          ]
        },
        {
          "output_type": "stream",
          "name": "stderr",
          "text": [
            "Attention type 'block_sparse' is not possible if sequence_length: 23 <= num global tokens: 2 * config.block_size + min. num sliding tokens: 3 * config.block_size + config.num_random_blocks * config.block_size + additional buffer: config.num_random_blocks * config.block_size = 704 with config.block_size = 64, config.num_random_blocks = 3. Changing attention type to 'original_full'...\n"
          ]
        },
        {
          "output_type": "stream",
          "name": "stdout",
          "text": [
            "Accuracy for LukeForMultipleChoice with distiluse-base-multilingual-cased-v2: 0.5\n",
            "----------------------------------------\n",
            "Accuracy for BigBirdForMultipleChoice with all-MiniLM-L6-v2: 0.48\n",
            "Accuracy for BigBirdForMultipleChoice with multi-qa-mpnet-base-dot-v1: 0.49\n",
            "Accuracy for BigBirdForMultipleChoice with all-MiniLM-L12-v2: 0.49\n",
            "Accuracy for BigBirdForMultipleChoice with paraphrase-MiniLM-L6-v2: 0.45\n",
            "Accuracy for BigBirdForMultipleChoice with bert-base-nli-mean-tokens: 0.46\n",
            "Accuracy for BigBirdForMultipleChoice with distiluse-base-multilingual-cased-v2: 0.46\n",
            "----------------------------------------\n"
          ]
        }
      ]
    },
    {
      "cell_type": "markdown",
      "source": [
        "Τα MultipleChoice μοντέλα με τα καλύτερα αποτελέσματα είναι τα Bert, Electra και Luke. \n",
        "\n",
        "Τα SemanticSimilarity μοντέλα με τα καλύτερα αποτελέσματα είναι τα all-MiniLM-L6-v2, multi-qa-mpnet-base-dot-v1, all-MiniLM-L12-v2.\n",
        "\n",
        "Ο συνδυασμός που επιστρέφει το υψηλότερο accuracy είναι: LukeForMultipleChoice with all-MiniLM-L6-v2\n",
        "\n",
        "Συμπεραίνουμε, λοιπόν, ότι, αν και για classification με 2 επιλογές, όπως είδαμε στο ερώτημα Β1, τα MultipleChoice μοντέλα δεν έχουν πολύ καλό accuracy (περίπου 0.5), σε tasks με 4 επιλογές, με τη βοήθεια του semantic similarity, η απόδοσή τους βελτιώνεται σημαντικά."
      ],
      "metadata": {
        "id": "X37aVaBOPPfj"
      }
    },
    {
      "cell_type": "markdown",
      "metadata": {
        "id": "jQATbpGyeByP"
      },
      "source": [
        "## Β3. Winogrande dataset\n",
        "\n",
        "Το [Winogrande dataset](https://huggingface.co/datasets/winogrande) αποτελείται από προτάσεις που μία λέξη τους έχει αφαιρεθεί και δίνονται δύο πιθανές επιλογές συμπλήρωσης του κενού. Για παράδειγμα, δοθείσας της πρότασης \"John moved the couch from the garage to the backyard to create space. The _ is small.\", υπάρχουν δύο πιθανές εναλλακτικές:\n",
        "\n",
        "- \"garage\"\n",
        "- \"backyard\"\n",
        "\n",
        "Η δυσκολία της συμπλήρωσης έγκειται στο ότι και οι δύο λέξεις αναφέρονται στην πρόταση, οπότε το μοντέλο θα πρέπει να διαθέτει υψηλές δυνατότητες κατανόησης γλώσσας προκειμένου να επιλέξει μια νοηματικά σωστή συμπλήρωση. \n",
        "\n",
        "Για λόγους επιτάχυνσης, επιλέξτε ένα τυχαίο υποσύνολο 100 δειγμάτων από το training set του Winogrande.\n"
      ]
    },
    {
      "cell_type": "code",
      "execution_count": null,
      "metadata": {
        "id": "s-Jkr97igAJO"
      },
      "outputs": [],
      "source": [
        "# insert your code here (load dataset)\n",
        "\n",
        "dataset = load_dataset('winogrande', 'winogrande_xl')['validation']\n",
        "\n",
        "winogrande_dataset = Dataset.from_dict(dataset.shuffle()[:100])\n",
        "\n",
        "sentence1_list = []\n",
        "sentence2_list = []\n",
        "label_list = []\n",
        "\n",
        "for row in winogrande_dataset:    \n",
        "    sentence1_list.append(row['sentence'].split('_')[0].strip())\n",
        "    sentence1_list.append(row['sentence'].split('_')[0].strip())\n",
        "\n",
        "    sentence2_list.append(row['option1'].strip() + ' ' + row['sentence'].split('_')[1].strip())\n",
        "    sentence2_list.append(row['option2'].strip() + ' ' + row['sentence'].split('_')[1].strip())\n",
        "\n",
        "    label_list.append(row['answer'] == '1')\n",
        "    label_list.append(row['answer'] == '2')\n",
        "\n",
        "winogrande = Dataset.from_dict({\n",
        "    'sentence1': sentence1_list,\n",
        "    'sentence2': sentence2_list,\n",
        "    'label': label_list\n",
        "})\n"
      ]
    },
    {
      "cell_type": "code",
      "source": [
        "print(winogrande)"
      ],
      "metadata": {
        "colab": {
          "base_uri": "https://localhost:8080/"
        },
        "id": "C9qGV4WeCrRg",
        "outputId": "062f6410-8707-40b6-9818-625258d5e5f1"
      },
      "execution_count": 26,
      "outputs": [
        {
          "output_type": "stream",
          "name": "stdout",
          "text": [
            "Dataset({\n",
            "    features: ['sentence1', 'sentence2', 'label'],\n",
            "    num_rows: 200\n",
            "})\n"
          ]
        }
      ]
    },
    {
      "cell_type": "markdown",
      "metadata": {
        "id": "hpuR6PbVmwbd"
      },
      "source": [
        "Με κατάλληλο [μετασχηματισμό](https://huggingface.co/DeepPavlov/roberta-large-winogrande) της παραπάνω εισόδου (πρόταση με κενό και δύο επιλογές συμπλήρωσης), καλείστε να καταγράψετε το accuracy σχετικών μοντέλων που επιλύουν το πρόβλημα, συγκρίνοντας το predicted label με το πραγματικό label (1: πρώτη επιλογή, 2: δεύτερη επιλογή). Ουσιαστικά θα πρέπει να αναγάγετε το παραπάνω πρόβλημα σε κάποιο πιο κλασικό πρόβλημα της επεξεργασίας φυσικής γλώσσας.\n",
        "\n",
        "Δοκιμάστε τουλάχιστον 3 κατάλληλα μοντέλα από το Huggingface για να προσεγγίσετε το πρόβλημα του Winogrande. Προτείνουμε τη χρήση pipelines για τη διευκόλυνσή σας."
      ]
    },
    {
      "cell_type": "code",
      "execution_count": null,
      "metadata": {
        "id": "m1oZcCm2c29U"
      },
      "outputs": [],
      "source": [
        "# insert your code here (load models)\n",
        "from transformers import AutoTokenizer, AutoModelForSequenceClassification\n",
        "\n",
        "roberta_tokenizer = AutoTokenizer.from_pretrained(\"DeepPavlov/roberta-large-winogrande\")\n",
        "roberta_model = AutoModelForSequenceClassification.from_pretrained(\"DeepPavlov/roberta-large-winogrande\")\n",
        "\n",
        "deberta_tokenizer = AutoTokenizer.from_pretrained(\"sileod/deberta-v3-base-tasksource-nli\")\n",
        "deberta_model = AutoModelForSequenceClassification.from_pretrained(\"sileod/deberta-v3-base-tasksource-nli\")\n",
        "\n",
        "bert_tokenizer = AutoTokenizer.from_pretrained(\"bpark5233/bert-base-uncased-finetuned-winogrande_debiased\")\n",
        "bert_model = AutoModelForSequenceClassification.from_pretrained(\"bpark5233/bert-base-uncased-finetuned-winogrande_debiased\")\n"
      ]
    },
    {
      "cell_type": "code",
      "execution_count": null,
      "metadata": {
        "id": "9m6akMdBuFcw"
      },
      "outputs": [],
      "source": [
        "# insert your code here (create pipelines)\n",
        "from transformers import pipeline\n",
        "classifier_roberta = pipeline(model = \"DeepPavlov/roberta-large-winogrande\", tokenizer = roberta_tokenizer)\n",
        "classifier_deberta = pipeline(model = \"sileod/deberta-v3-base-tasksource-nli\" , tokenizer = deberta_tokenizer)\n",
        "classifier_bert = pipeline(model = \"bpark5233/bert-base-uncased-finetuned-winogrande_debiased\", tokenizer = bert_tokenizer)\n"
      ]
    },
    {
      "cell_type": "code",
      "execution_count": null,
      "metadata": {
        "id": "PR6sz6xug_7N"
      },
      "outputs": [],
      "source": [
        "# insert your code here (function for predicting best fill)\n",
        "def predictions(classifier, name):\n",
        "  labels = []\n",
        "  for i in range(0,200,2):\n",
        "    sentence_1 = classifier(winogrande['sentence1'][i] + winogrande['sentence2'][i])\n",
        "    sentence_2 = classifier(winogrande['sentence1'][i+1] + winogrande['sentence2'][i+1])\n",
        "    if(sentence_1[0]['label'] == 'True' and sentence_2[0]['label'] == 'False'):\n",
        "      labels.append('1')\n",
        "    elif(sentence_1[0]['label'] == 'False' and sentence_2[0]['label'] == 'True'):\n",
        "      labels.append('2')\n",
        "    elif(sentence_1[0]['label'] == 'False' and sentence_2[0]['label'] == 'False'):\n",
        "      labels.append('1' if sentence_1[0]['score']<sentence_2[0]['score'] else '2')\n",
        "    else:\n",
        "      labels.append('1' if sentence_1[0]['score']>sentence_2[0]['score'] else '2')\n",
        "\n",
        "  k = sum(labels[i] == winogrande_dataset['answer'][i] for i in range(100)) \n",
        "  print(f'Accuracy for {name} : {k/100}' ) \n"
      ]
    },
    {
      "cell_type": "code",
      "source": [
        "predictions(classifier_roberta,\"DeepPavlov/roberta-large-winogrande\")\n",
        "predictions(classifier_deberta,\"sileod/deberta-v3-base-tasksource-nli\")\n",
        "predictions(classifier_bert,\"bpark5233/bert-base-uncased-finetuned-winogrande_debiased\")"
      ],
      "metadata": {
        "id": "G9Qhtz9LZrGD",
        "outputId": "53449669-0ad1-4aa2-f93a-4c1bcc26260e",
        "colab": {
          "base_uri": "https://localhost:8080/"
        }
      },
      "execution_count": null,
      "outputs": [
        {
          "output_type": "stream",
          "name": "stdout",
          "text": [
            "Accuracy for DeepPavlov/roberta-large-winogrande : 0.78\n",
            "Accuracy for sileod/deberta-v3-base-tasksource-nli : 0.57\n",
            "Accuracy for bpark5233/bert-base-uncased-finetuned-winogrande_debiased : 0.54\n"
          ]
        }
      ]
    },
    {
      "cell_type": "markdown",
      "source": [
        "Το μοντέλο DeepPavlov/roberta-large-winogrande, το οποίο είναι fine tuned στο dataset winogrande, επιστρέφει accuracy 0.78, το οποίο, όπως αναμέναμε, είναι αρκετά υψηλότερο από μοντέλα που απλώς είναι pretrained στο συγκεκριμένο task. Ωστόσο, τα άλλα δύο μοντέλα που χρησιμοποιήσαμε και είναι επίσης fine tuned στο dataset, δεν είχαν εξίσου καλό accuracy."
      ],
      "metadata": {
        "id": "k6f6x-YaQtSS"
      }
    }
  ],
  "metadata": {
    "colab": {
      "provenance": [],
      "gpuType": "T4"
    },
    "kernelspec": {
      "display_name": "Python 3",
      "name": "python3"
    },
    "language_info": {
      "codemirror_mode": {
        "name": "ipython",
        "version": 3
      },
      "file_extension": ".py",
      "mimetype": "text/x-python",
      "name": "python",
      "nbconvert_exporter": "python",
      "pygments_lexer": "ipython3",
      "version": "3.10.6"
    },
    "accelerator": "GPU"
  },
  "nbformat": 4,
  "nbformat_minor": 0
}